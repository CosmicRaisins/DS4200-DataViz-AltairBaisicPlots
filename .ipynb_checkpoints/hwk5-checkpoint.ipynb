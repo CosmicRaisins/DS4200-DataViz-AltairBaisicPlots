{
 "cells": [
  {
   "cell_type": "code",
   "execution_count": null,
   "metadata": {},
   "outputs": [],
   "source": [
    "import pandas as pd\n",
    "import altair as alt"
   ]
  },
  {
   "cell_type": "code",
   "execution_count": null,
   "metadata": {},
   "outputs": [],
   "source": [
    "# read data and disable row limitations\n",
    "df = pd.read_csv(\"netflix_titles.csv\")\n",
    "alt.data_transformers.disable_max_rows()\n",
    "df"
   ]
  },
  {
   "cell_type": "code",
   "execution_count": null,
   "metadata": {},
   "outputs": [],
   "source": [
    "### simple visualization\n",
    "\n",
    "# creating viz\n",
    "alt.Chart(df).mark_bar().encode(\n",
    "    x = alt.X(\"count()\", axis=alt.Axis(title=\"Number of Titles\")),\n",
    "    y = alt.Y(\"type\", axis=alt.Axis(title=\"Type\"))\n",
    "# setting viz title\n",
    ").properties(\n",
    "    title = \"Number of Titles on Netflix by Types\",\n",
    "    width = 600,\n",
    "    height = 300\n",
    ").configure_bar(\n",
    "    color = \"#E50914\",\n",
    "    height = 50\n",
    ").configure_axis(\n",
    "    labelFontSize = 15,\n",
    "    titleFontSize = 20,\n",
    "    labelAngle = 0\n",
    ").configure_title(\n",
    "    fontSize = 20\n",
    ")"
   ]
  },
  {
   "cell_type": "code",
   "execution_count": null,
   "metadata": {},
   "outputs": [],
   "source": [
    "### visualization 1\n",
    "\n",
    "# signle out Movie titles and their durations\n",
    "df1 = df[df[\"type\"] == \"Movie\"][[\"title\", \"duration\"]].dropna()\n",
    "\n",
    "# cleaning data by only keeping length information in number of minutes\n",
    "df1[\"duration\"] = df1[\"duration\"].apply(lambda x : int(x[:-4]))\n",
    "\n",
    "# creating viz\n",
    "viz1 = alt.Chart(df1).mark_bar().encode(\n",
    "    x = alt.X(\"duration\", axis=alt.Axis(title=\"Duration of the Movie\")),\n",
    "    y = alt.Y(\"count()\", axis=alt.Axis(title=\"Number of Movies\"))\n",
    "# setting viz title\n",
    ").properties(\n",
    "    title = \"Number of Movies on Netflix by Duration\",\n",
    "    width = 600,\n",
    "    height = 400\n",
    ").configure_bar(\n",
    "    color = \"#E50914\"\n",
    ").configure_axis(\n",
    "    labelFontSize = 15,\n",
    "    titleFontSize = 20,\n",
    "    labelAngle = 0\n",
    ").configure_title(\n",
    "    fontSize = 20\n",
    ")"
   ]
  },
  {
   "cell_type": "code",
   "execution_count": null,
   "metadata": {},
   "outputs": [],
   "source": [
    "### visualization 2\n",
    "\n",
    "# signle out Movie titles and their date added\n",
    "df2 = df[df[\"type\"] == \"Movie\"][[\"title\", \"date_added\"]].dropna()\n",
    "\n",
    "# cleaning data by only keeping year information as integer\n",
    "df2[\"date_added\"] = df2[\"date_added\"].apply(lambda x : int(x[-4:]))\n",
    "# remove 2020 as its only Janurary\n",
    "df2 = df2[df2[\"date_added\"] < 2020]\n",
    "# counts the added title in each year and sort the dataframe by year\n",
    "df2 = pd.DataFrame(df2[\"date_added\"].value_counts().reset_index().values, columns = [\"Year\", \"Counts\"])\n",
    "df2 = df2.set_index(\"Year\").sort_index(axis = 0, ascending = True)\n",
    "# calculate the rate of increase\n",
    "df2[\"Rate\"] = df2[\"Counts\"].diff()\n",
    "df2 = df2.reset_index().drop(0).drop(\"Counts\", axis = 1)\n",
    "# renaming the years to intervals\n",
    "df2[\"Year\"] = df2[\"Year\"].apply(lambda x : str(x - 1)[-2:] + \"-\" + str(x)[-2:])\n",
    "\n",
    "# creating viz\n",
    "viz2 = alt.Chart(df2).mark_line().encode(\n",
    "    x = alt.X(\"Year\", axis=alt.Axis(title=\"Year\")),\n",
    "    y = alt.Y(\"Rate\", axis=alt.Axis(title=\"Rate of Increase\"))\n",
    "# setting viz title and size\n",
    ").properties(\n",
    "    title = \"Rate of Increase of Netflix Title Adds with Time\",\n",
    "    width = 600,\n",
    "    height = 400\n",
    ").configure_line(\n",
    "    color = \"#E50914\"\n",
    ").configure_axis(\n",
    "    labelFontSize = 15,\n",
    "    titleFontSize = 20,\n",
    "    labelAngle = 0\n",
    ").configure_title(\n",
    "    fontSize = 20\n",
    ")"
   ]
  },
  {
   "cell_type": "markdown",
   "metadata": {},
   "source": [
    "# Visulization 1: The distribution of movie lengths appears gaussian.\n",
    "This visualization shows that The distribution of movie lengths appears gaussian. We can see the signature bell-shaped curve fro the histrogram dispite some outliers. I chose the histogram for this visualization because it is commonly used to demonstrate the distribution of data.\n",
    "\n",
    "X axis is is the duration of the movie, while the Y axis is the number of movies with that specific duration. Netflix's red is used for the bar for thematic purposes."
   ]
  },
  {
   "cell_type": "code",
   "execution_count": null,
   "metadata": {},
   "outputs": [],
   "source": [
    "viz1"
   ]
  },
  {
   "cell_type": "markdown",
   "metadata": {},
   "source": [
    "# Visulization 2: The Trend of Title Adds on Netflix Since 2008\n",
    "This visualization shows that The rate at which Netflix adds Titles to its platform stayed relativly flat from 2008 to 2013, saw significant increase from 2013 to 2017, and is graduly slowing down since. The data was cleaned and the rate of increase was calculated from calculating the derivatives. Originally, I plotted the graph using the number of titles added at each year. This was alter changed because it did not generate a intuitive visulization, leading to increased processing time, and possible false conclusions. The data from 2020 was removed because the year has not passed in full. I chose a line chart for this visualization because it is commonly used to showcase trend.\n",
    "X axis is the year, while the Y axis is rate of increase of title adds. Netflix's red is again used for the line."
   ]
  },
  {
   "cell_type": "code",
   "execution_count": null,
   "metadata": {},
   "outputs": [],
   "source": [
    "viz2"
   ]
  },
  {
   "cell_type": "code",
   "execution_count": null,
   "metadata": {},
   "outputs": [],
   "source": []
  }
 ],
 "metadata": {
  "kernelspec": {
   "display_name": "Python 3",
   "language": "python",
   "name": "python3"
  },
  "language_info": {
   "codemirror_mode": {
    "name": "ipython",
    "version": 3
   },
   "file_extension": ".py",
   "mimetype": "text/x-python",
   "name": "python",
   "nbconvert_exporter": "python",
   "pygments_lexer": "ipython3",
   "version": "3.8.3"
  }
 },
 "nbformat": 4,
 "nbformat_minor": 4
}
